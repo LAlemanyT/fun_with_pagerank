{
 "cells": [
  {
   "cell_type": "code",
   "execution_count": null,
   "metadata": {},
   "outputs": [],
   "source": [
    "import networkx as nx\n",
    "import csv"
   ]
  },
  {
   "attachments": {},
   "cell_type": "markdown",
   "metadata": {},
   "source": [
    "Create Nodes List"
   ]
  },
  {
   "cell_type": "code",
   "execution_count": null,
   "metadata": {},
   "outputs": [],
   "source": [
    "teams = []\n",
    "f = open(\"nhl_21_22.csv\")\n",
    "csv_read = csv.reader(f)\n",
    "for row in csv_read:\n",
    "  if not row[1] in teams:\n",
    "    teams.append(row[1])\n",
    "  if not row[3] in teams:\n",
    "    teams.append(row[3])\n",
    "  if len(teams) == 32:\n",
    "    break\n",
    "f.close()"
   ]
  },
  {
   "attachments": {},
   "cell_type": "markdown",
   "metadata": {},
   "source": [
    "Create edge dictionary"
   ]
  },
  {
   "cell_type": "code",
   "execution_count": null,
   "metadata": {},
   "outputs": [],
   "source": [
    "def season_matches(file):\n",
    "  matchups = {} #G, P, #games\n",
    "  f = open(file)\n",
    "  csv_read = csv.reader(f)\n",
    "  for row in csv_read:\n",
    "    goals1 = int(row[2])\n",
    "    goals2 = int(row[4])\n",
    "    points1 = 0\n",
    "    points2 = 0\n",
    "    if goals1 < goals2:\n",
    "      points2 = 2\n",
    "      if row[5] != \"\":\n",
    "        points1 = 1\n",
    "    elif goals2 < goals1:\n",
    "      points1 = 2\n",
    "      if row[5] != \"\":\n",
    "        points2 = 1\n",
    "    #Team 1 stats\n",
    "    if f\"{row[1]}-{row[3]}\" not in matchups.keys():\n",
    "      matchups[f\"{row[1]}-{row[3]}\"] = [goals1, points1, 1]\n",
    "    else:\n",
    "      matchups[f\"{row[1]}-{row[3]}\"][0] += goals1\n",
    "      matchups[f\"{row[1]}-{row[3]}\"][1] += points1\n",
    "      matchups[f\"{row[1]}-{row[3]}\"][2] += 1\n",
    "\n",
    "    #Team 2 stats\n",
    "    if f\"{row[3]}-{row[1]}\" not in matchups.keys():\n",
    "      matchups[f\"{row[3]}-{row[1]}\"] = [goals2, points2, 1]\n",
    "    else:\n",
    "      matchups[f\"{row[3]}-{row[1]}\"][0] += goals2\n",
    "      matchups[f\"{row[3]}-{row[1]}\"][1] += points2\n",
    "      matchups[f\"{row[3]}-{row[1]}\"][2] += 1\n",
    "  f.close()\n",
    "  return matchups\n",
    "\n",
    "matchups = season_matches(\"nhl_22_23.csv\")\n",
    "files = [\"nhl_21_22.csv\", \"nhl_20_21.csv\", \"nhl_19_20.csv\", \"nhl_18_19.csv\"]\n",
    "\n",
    "\n",
    "i = 0\n",
    "while i < len(files):\n",
    "  tmp = season_matches(files[i])\n",
    "\n",
    "  for pair in tmp.keys():\n",
    "    matchups[pair][0] += (tmp[pair][0] * (0.8-(i*0.2)))\n",
    "    matchups[pair][1] += (tmp[pair][1] * (0.8-(i*0.2)))\n",
    "    matchups[pair][2] += (tmp[pair][2] * (0.8-(i*0.2)))\n",
    "  i+=1\n",
    "\n",
    "normalizer = -1\n",
    "for pair in matchups.keys():\n",
    "  normalizer = max(normalizer, matchups[pair][0]/matchups[pair][2])\n",
    "edges = []\n",
    "for pair in matchups.keys():\n",
    "  tmp = pair.split(\"-\")\n",
    "  points = matchups[pair][1]/matchups[pair][2]\n",
    "  goals = (matchups[pair][0]/matchups[pair][2]) / normalizer\n",
    "  edges.append((tmp[1], tmp[0], points+goals))\n"
   ]
  },
  {
   "attachments": {},
   "cell_type": "markdown",
   "metadata": {},
   "source": [
    "Create Team network"
   ]
  },
  {
   "cell_type": "code",
   "execution_count": null,
   "metadata": {},
   "outputs": [],
   "source": [
    "G = nx.DiGraph()\n",
    "[G.add_node(k) for k in teams]\n",
    "G.add_weighted_edges_from(edges)\n",
    "nx.draw(G, with_labels=True)"
   ]
  },
  {
   "attachments": {},
   "cell_type": "markdown",
   "metadata": {},
   "source": [
    "Print Table"
   ]
  },
  {
   "cell_type": "code",
   "execution_count": null,
   "metadata": {},
   "outputs": [],
   "source": [
    "pr1 = nx.pagerank(G)\n",
    "\n",
    "temp = sorted(pr1, key=pr1.get, reverse=True)\n",
    "for key in temp:\n",
    "  print(f\"{key}:  {round(pr1[key], 4)}\")"
   ]
  }
 ],
 "metadata": {
  "language_info": {
   "name": "python"
  },
  "orig_nbformat": 4
 },
 "nbformat": 4,
 "nbformat_minor": 2
}
